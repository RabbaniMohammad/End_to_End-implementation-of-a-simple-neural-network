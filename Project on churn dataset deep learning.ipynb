{
 "cells": [
  {
   "cell_type": "code",
   "execution_count": 1,
   "metadata": {},
   "outputs": [],
   "source": [
    "import pandas as pd \n",
    "import numpy as np \n",
    "import tensorflow.keras as k\n",
    "import matplotlib.pyplot as plt "
   ]
  },
  {
   "cell_type": "code",
   "execution_count": 20,
   "metadata": {},
   "outputs": [],
   "source": [
    "from sklearn.model_selection import train_test_split\n",
    "from sklearn.preprocessing import StandardScaler"
   ]
  },
  {
   "cell_type": "code",
   "execution_count": 2,
   "metadata": {},
   "outputs": [],
   "source": [
    "dataset = pd.read_csv('Churn_Modelling.csv')"
   ]
  },
  {
   "cell_type": "code",
   "execution_count": 3,
   "metadata": {},
   "outputs": [
    {
     "data": {
      "text/html": [
       "<div>\n",
       "<style scoped>\n",
       "    .dataframe tbody tr th:only-of-type {\n",
       "        vertical-align: middle;\n",
       "    }\n",
       "\n",
       "    .dataframe tbody tr th {\n",
       "        vertical-align: top;\n",
       "    }\n",
       "\n",
       "    .dataframe thead th {\n",
       "        text-align: right;\n",
       "    }\n",
       "</style>\n",
       "<table border=\"1\" class=\"dataframe\">\n",
       "  <thead>\n",
       "    <tr style=\"text-align: right;\">\n",
       "      <th></th>\n",
       "      <th>RowNumber</th>\n",
       "      <th>CustomerId</th>\n",
       "      <th>Surname</th>\n",
       "      <th>CreditScore</th>\n",
       "      <th>Geography</th>\n",
       "      <th>Gender</th>\n",
       "      <th>Age</th>\n",
       "      <th>Tenure</th>\n",
       "      <th>Balance</th>\n",
       "      <th>NumOfProducts</th>\n",
       "      <th>HasCrCard</th>\n",
       "      <th>IsActiveMember</th>\n",
       "      <th>EstimatedSalary</th>\n",
       "      <th>Exited</th>\n",
       "    </tr>\n",
       "  </thead>\n",
       "  <tbody>\n",
       "    <tr>\n",
       "      <th>0</th>\n",
       "      <td>1</td>\n",
       "      <td>15634602</td>\n",
       "      <td>Hargrave</td>\n",
       "      <td>619</td>\n",
       "      <td>France</td>\n",
       "      <td>Female</td>\n",
       "      <td>42</td>\n",
       "      <td>2</td>\n",
       "      <td>0.00</td>\n",
       "      <td>1</td>\n",
       "      <td>1</td>\n",
       "      <td>1</td>\n",
       "      <td>101348.88</td>\n",
       "      <td>1</td>\n",
       "    </tr>\n",
       "    <tr>\n",
       "      <th>1</th>\n",
       "      <td>2</td>\n",
       "      <td>15647311</td>\n",
       "      <td>Hill</td>\n",
       "      <td>608</td>\n",
       "      <td>Spain</td>\n",
       "      <td>Female</td>\n",
       "      <td>41</td>\n",
       "      <td>1</td>\n",
       "      <td>83807.86</td>\n",
       "      <td>1</td>\n",
       "      <td>0</td>\n",
       "      <td>1</td>\n",
       "      <td>112542.58</td>\n",
       "      <td>0</td>\n",
       "    </tr>\n",
       "    <tr>\n",
       "      <th>2</th>\n",
       "      <td>3</td>\n",
       "      <td>15619304</td>\n",
       "      <td>Onio</td>\n",
       "      <td>502</td>\n",
       "      <td>France</td>\n",
       "      <td>Female</td>\n",
       "      <td>42</td>\n",
       "      <td>8</td>\n",
       "      <td>159660.80</td>\n",
       "      <td>3</td>\n",
       "      <td>1</td>\n",
       "      <td>0</td>\n",
       "      <td>113931.57</td>\n",
       "      <td>1</td>\n",
       "    </tr>\n",
       "    <tr>\n",
       "      <th>3</th>\n",
       "      <td>4</td>\n",
       "      <td>15701354</td>\n",
       "      <td>Boni</td>\n",
       "      <td>699</td>\n",
       "      <td>France</td>\n",
       "      <td>Female</td>\n",
       "      <td>39</td>\n",
       "      <td>1</td>\n",
       "      <td>0.00</td>\n",
       "      <td>2</td>\n",
       "      <td>0</td>\n",
       "      <td>0</td>\n",
       "      <td>93826.63</td>\n",
       "      <td>0</td>\n",
       "    </tr>\n",
       "    <tr>\n",
       "      <th>4</th>\n",
       "      <td>5</td>\n",
       "      <td>15737888</td>\n",
       "      <td>Mitchell</td>\n",
       "      <td>850</td>\n",
       "      <td>Spain</td>\n",
       "      <td>Female</td>\n",
       "      <td>43</td>\n",
       "      <td>2</td>\n",
       "      <td>125510.82</td>\n",
       "      <td>1</td>\n",
       "      <td>1</td>\n",
       "      <td>1</td>\n",
       "      <td>79084.10</td>\n",
       "      <td>0</td>\n",
       "    </tr>\n",
       "  </tbody>\n",
       "</table>\n",
       "</div>"
      ],
      "text/plain": [
       "   RowNumber  CustomerId   Surname  CreditScore Geography  Gender  Age  \\\n",
       "0          1    15634602  Hargrave          619    France  Female   42   \n",
       "1          2    15647311      Hill          608     Spain  Female   41   \n",
       "2          3    15619304      Onio          502    France  Female   42   \n",
       "3          4    15701354      Boni          699    France  Female   39   \n",
       "4          5    15737888  Mitchell          850     Spain  Female   43   \n",
       "\n",
       "   Tenure    Balance  NumOfProducts  HasCrCard  IsActiveMember  \\\n",
       "0       2       0.00              1          1               1   \n",
       "1       1   83807.86              1          0               1   \n",
       "2       8  159660.80              3          1               0   \n",
       "3       1       0.00              2          0               0   \n",
       "4       2  125510.82              1          1               1   \n",
       "\n",
       "   EstimatedSalary  Exited  \n",
       "0        101348.88       1  \n",
       "1        112542.58       0  \n",
       "2        113931.57       1  \n",
       "3         93826.63       0  \n",
       "4         79084.10       0  "
      ]
     },
     "execution_count": 3,
     "metadata": {},
     "output_type": "execute_result"
    }
   ],
   "source": [
    "dataset.head()"
   ]
  },
  {
   "cell_type": "code",
   "execution_count": 4,
   "metadata": {},
   "outputs": [
    {
     "name": "stdout",
     "output_type": "stream",
     "text": [
      "<class 'pandas.core.frame.DataFrame'>\n",
      "RangeIndex: 10000 entries, 0 to 9999\n",
      "Data columns (total 14 columns):\n",
      " #   Column           Non-Null Count  Dtype  \n",
      "---  ------           --------------  -----  \n",
      " 0   RowNumber        10000 non-null  int64  \n",
      " 1   CustomerId       10000 non-null  int64  \n",
      " 2   Surname          10000 non-null  object \n",
      " 3   CreditScore      10000 non-null  int64  \n",
      " 4   Geography        10000 non-null  object \n",
      " 5   Gender           10000 non-null  object \n",
      " 6   Age              10000 non-null  int64  \n",
      " 7   Tenure           10000 non-null  int64  \n",
      " 8   Balance          10000 non-null  float64\n",
      " 9   NumOfProducts    10000 non-null  int64  \n",
      " 10  HasCrCard        10000 non-null  int64  \n",
      " 11  IsActiveMember   10000 non-null  int64  \n",
      " 12  EstimatedSalary  10000 non-null  float64\n",
      " 13  Exited           10000 non-null  int64  \n",
      "dtypes: float64(2), int64(9), object(3)\n",
      "memory usage: 1.1+ MB\n"
     ]
    }
   ],
   "source": [
    "dataset.info()"
   ]
  },
  {
   "cell_type": "code",
   "execution_count": 6,
   "metadata": {},
   "outputs": [],
   "source": [
    "dataset.drop(labels = ['RowNumber' , 'CustomerId' , 'Surname'] , \n",
    "            axis = 1 , inplace = True)"
   ]
  },
  {
   "cell_type": "code",
   "execution_count": 12,
   "metadata": {},
   "outputs": [],
   "source": [
    "new_dataset = pd.get_dummies(dataset , drop_first = True)"
   ]
  },
  {
   "cell_type": "code",
   "execution_count": 13,
   "metadata": {},
   "outputs": [],
   "source": [
    "# pd.concat([dataset , gender , geography] , axis = 1)"
   ]
  },
  {
   "cell_type": "code",
   "execution_count": 17,
   "metadata": {},
   "outputs": [],
   "source": [
    "X = new_dataset.drop('Exited' , axis = 1)\n",
    "y = new_dataset['Exited']"
   ]
  },
  {
   "cell_type": "code",
   "execution_count": 18,
   "metadata": {},
   "outputs": [],
   "source": [
    "X_train , X_test , y_train , y_test = train_test_split(X, y , test_size = \n",
    "                                                      0.2 , random_state = 42)"
   ]
  },
  {
   "cell_type": "code",
   "execution_count": 21,
   "metadata": {},
   "outputs": [],
   "source": [
    "sc = StandardScaler()\n",
    "X_train = sc.fit_transform(X_train)\n",
    "X_test = sc.fit_transform(X_test)"
   ]
  },
  {
   "cell_type": "code",
   "execution_count": 25,
   "metadata": {},
   "outputs": [],
   "source": [
    "from tensorflow.keras.models import Sequential # to create the mod\n",
    "from tensorflow.keras.layers import Dense\n",
    "from tensorflow.keras.layers import Dropout"
   ]
  },
  {
   "cell_type": "code",
   "execution_count": 61,
   "metadata": {},
   "outputs": [],
   "source": [
    "classifier = Sequential()\n",
    "# adding the input_layer and first hidden layer\n",
    "classifier.add(Dense(units = 10, kernel_initializer = 'he_normal' , input_dim = 11 , activation = 'relu'))\n",
    "classifier.add(Dropout(0.3))\n",
    "# adding second hidden layer\n",
    "classifier.add(Dense(units = 20, kernel_initializer = 'he_normal' , activation = 'relu'))\n",
    "classifier.add(Dropout(0.4))\n",
    "#adding the third hidden layer \n",
    "classifier.add(Dense(units = 15, kernel_initializer = 'he_uniform' , activation = 'relu'))\n",
    "classifier.add(Dropout(0.5))\n",
    "# adding the output layer\n",
    "classifier.add(Dense(units = 1, kernel_initializer = 'glorot_uniform' , activation = 'sigmoid'))\n",
    "# compiling rhe model\n",
    "classifier.compile(optimizer = 'adam' , loss = 'binary_crossentropy' , metrics = ['accuracy'])"
   ]
  },
  {
   "cell_type": "code",
   "execution_count": 62,
   "metadata": {},
   "outputs": [],
   "source": [
    "# output_dim = units in updated\n",
    "# init = kernal_initializer"
   ]
  },
  {
   "cell_type": "code",
   "execution_count": 63,
   "metadata": {},
   "outputs": [
    {
     "name": "stdout",
     "output_type": "stream",
     "text": [
      "Epoch 1/100\n",
      "536/536 [==============================] - 2s 3ms/step - loss: 0.7173 - accuracy: 0.7154 - val_loss: 0.5148 - val_accuracy: 0.7910\n",
      "Epoch 2/100\n",
      "536/536 [==============================] - 2s 3ms/step - loss: 0.5586 - accuracy: 0.7804 - val_loss: 0.4994 - val_accuracy: 0.7910\n",
      "Epoch 3/100\n",
      "536/536 [==============================] - 2s 3ms/step - loss: 0.5200 - accuracy: 0.7912 - val_loss: 0.4881 - val_accuracy: 0.7910\n",
      "Epoch 4/100\n",
      "536/536 [==============================] - 2s 3ms/step - loss: 0.4960 - accuracy: 0.7947 - val_loss: 0.4737 - val_accuracy: 0.7910\n",
      "Epoch 5/100\n",
      "536/536 [==============================] - 2s 3ms/step - loss: 0.4850 - accuracy: 0.7957 - val_loss: 0.4645 - val_accuracy: 0.7910\n",
      "Epoch 6/100\n",
      "536/536 [==============================] - 1s 2ms/step - loss: 0.4716 - accuracy: 0.7977 - val_loss: 0.4524 - val_accuracy: 0.7910\n",
      "Epoch 7/100\n",
      "536/536 [==============================] - 1s 2ms/step - loss: 0.4693 - accuracy: 0.7974 - val_loss: 0.4461 - val_accuracy: 0.7914\n",
      "Epoch 8/100\n",
      "536/536 [==============================] - 1s 1ms/step - loss: 0.4655 - accuracy: 0.7951 - val_loss: 0.4442 - val_accuracy: 0.7910\n",
      "Epoch 9/100\n",
      "536/536 [==============================] - 1s 2ms/step - loss: 0.4579 - accuracy: 0.8029 - val_loss: 0.4391 - val_accuracy: 0.7910\n",
      "Epoch 10/100\n",
      "536/536 [==============================] - 1s 1ms/step - loss: 0.4607 - accuracy: 0.8071 - val_loss: 0.4363 - val_accuracy: 0.7914\n",
      "Epoch 11/100\n",
      "536/536 [==============================] - 1s 2ms/step - loss: 0.4512 - accuracy: 0.8054 - val_loss: 0.4306 - val_accuracy: 0.7944\n",
      "Epoch 12/100\n",
      "536/536 [==============================] - 1s 1ms/step - loss: 0.4396 - accuracy: 0.8106 - val_loss: 0.4266 - val_accuracy: 0.7952\n",
      "Epoch 13/100\n",
      "536/536 [==============================] - 1s 1ms/step - loss: 0.4443 - accuracy: 0.8102 - val_loss: 0.4272 - val_accuracy: 0.7933\n",
      "Epoch 14/100\n",
      "536/536 [==============================] - 1s 1ms/step - loss: 0.4359 - accuracy: 0.8125 - val_loss: 0.4229 - val_accuracy: 0.7948\n",
      "Epoch 15/100\n",
      "536/536 [==============================] - 1s 2ms/step - loss: 0.4327 - accuracy: 0.8123 - val_loss: 0.4198 - val_accuracy: 0.8005\n",
      "Epoch 16/100\n",
      "536/536 [==============================] - 1s 2ms/step - loss: 0.4294 - accuracy: 0.8160 - val_loss: 0.4173 - val_accuracy: 0.8027\n",
      "Epoch 17/100\n",
      "536/536 [==============================] - 1s 2ms/step - loss: 0.4191 - accuracy: 0.8156 - val_loss: 0.4105 - val_accuracy: 0.8107\n",
      "Epoch 18/100\n",
      "536/536 [==============================] - 1s 2ms/step - loss: 0.4152 - accuracy: 0.8261 - val_loss: 0.4071 - val_accuracy: 0.8118\n",
      "Epoch 19/100\n",
      "536/536 [==============================] - 1s 1ms/step - loss: 0.4154 - accuracy: 0.8227 - val_loss: 0.4091 - val_accuracy: 0.8092\n",
      "Epoch 20/100\n",
      "536/536 [==============================] - 1s 1ms/step - loss: 0.4126 - accuracy: 0.8283 - val_loss: 0.4021 - val_accuracy: 0.8201\n",
      "Epoch 21/100\n",
      "536/536 [==============================] - 1s 1ms/step - loss: 0.4103 - accuracy: 0.8235 - val_loss: 0.4017 - val_accuracy: 0.8126\n",
      "Epoch 22/100\n",
      "536/536 [==============================] - 1s 1ms/step - loss: 0.4114 - accuracy: 0.8281 - val_loss: 0.3997 - val_accuracy: 0.8205\n",
      "Epoch 23/100\n",
      "536/536 [==============================] - 1s 1ms/step - loss: 0.4101 - accuracy: 0.8281 - val_loss: 0.3969 - val_accuracy: 0.8232\n",
      "Epoch 24/100\n",
      "536/536 [==============================] - 1s 1ms/step - loss: 0.4047 - accuracy: 0.8261 - val_loss: 0.3931 - val_accuracy: 0.8258\n",
      "Epoch 25/100\n",
      "536/536 [==============================] - 1s 1ms/step - loss: 0.3995 - accuracy: 0.8317 - val_loss: 0.3838 - val_accuracy: 0.8360\n",
      "Epoch 26/100\n",
      "536/536 [==============================] - 1s 1ms/step - loss: 0.4052 - accuracy: 0.8268 - val_loss: 0.3910 - val_accuracy: 0.8236\n",
      "Epoch 27/100\n",
      "536/536 [==============================] - 1s 2ms/step - loss: 0.3998 - accuracy: 0.8313 - val_loss: 0.3890 - val_accuracy: 0.8243\n",
      "Epoch 28/100\n",
      "536/536 [==============================] - 1s 1ms/step - loss: 0.4007 - accuracy: 0.8313 - val_loss: 0.3854 - val_accuracy: 0.8243\n",
      "Epoch 29/100\n",
      "536/536 [==============================] - 1s 2ms/step - loss: 0.4021 - accuracy: 0.8291 - val_loss: 0.3852 - val_accuracy: 0.8254\n",
      "Epoch 30/100\n",
      "536/536 [==============================] - 1s 2ms/step - loss: 0.4022 - accuracy: 0.8313 - val_loss: 0.3844 - val_accuracy: 0.8262\n",
      "Epoch 31/100\n",
      "536/536 [==============================] - 1s 2ms/step - loss: 0.3986 - accuracy: 0.8293 - val_loss: 0.3865 - val_accuracy: 0.8190\n",
      "Epoch 32/100\n",
      "536/536 [==============================] - 1s 1ms/step - loss: 0.4029 - accuracy: 0.8296 - val_loss: 0.3828 - val_accuracy: 0.8281\n",
      "Epoch 33/100\n",
      "536/536 [==============================] - 1s 2ms/step - loss: 0.4011 - accuracy: 0.8291 - val_loss: 0.3818 - val_accuracy: 0.8270\n",
      "Epoch 34/100\n",
      "536/536 [==============================] - 1s 2ms/step - loss: 0.4017 - accuracy: 0.8326 - val_loss: 0.3785 - val_accuracy: 0.8368\n",
      "Epoch 35/100\n",
      "536/536 [==============================] - 1s 1ms/step - loss: 0.4029 - accuracy: 0.8270 - val_loss: 0.3796 - val_accuracy: 0.8330\n",
      "Epoch 36/100\n",
      "536/536 [==============================] - 1s 1ms/step - loss: 0.3969 - accuracy: 0.8322 - val_loss: 0.3802 - val_accuracy: 0.8357\n",
      "Epoch 37/100\n",
      "536/536 [==============================] - 1s 1ms/step - loss: 0.4023 - accuracy: 0.8360 - val_loss: 0.3793 - val_accuracy: 0.8376\n",
      "Epoch 38/100\n",
      "536/536 [==============================] - 1s 1ms/step - loss: 0.3931 - accuracy: 0.8352 - val_loss: 0.3744 - val_accuracy: 0.8406\n",
      "Epoch 39/100\n",
      "536/536 [==============================] - 1s 1ms/step - loss: 0.3860 - accuracy: 0.8406 - val_loss: 0.3759 - val_accuracy: 0.8391\n",
      "Epoch 40/100\n",
      "536/536 [==============================] - 1s 2ms/step - loss: 0.3922 - accuracy: 0.8349 - val_loss: 0.3779 - val_accuracy: 0.8326\n",
      "Epoch 41/100\n",
      "536/536 [==============================] - 1s 2ms/step - loss: 0.3914 - accuracy: 0.8395 - val_loss: 0.3738 - val_accuracy: 0.8425\n",
      "Epoch 42/100\n",
      "536/536 [==============================] - 1s 2ms/step - loss: 0.3979 - accuracy: 0.8321 - val_loss: 0.3741 - val_accuracy: 0.8398\n",
      "Epoch 43/100\n",
      "536/536 [==============================] - 1s 2ms/step - loss: 0.3938 - accuracy: 0.8354 - val_loss: 0.3729 - val_accuracy: 0.8417\n",
      "Epoch 44/100\n",
      "536/536 [==============================] - 1s 1ms/step - loss: 0.4004 - accuracy: 0.8296 - val_loss: 0.3787 - val_accuracy: 0.8307\n",
      "Epoch 45/100\n",
      "536/536 [==============================] - 1s 1ms/step - loss: 0.3951 - accuracy: 0.8294 - val_loss: 0.3765 - val_accuracy: 0.8376\n",
      "Epoch 46/100\n",
      "536/536 [==============================] - 1s 1ms/step - loss: 0.3955 - accuracy: 0.8388 - val_loss: 0.3797 - val_accuracy: 0.8398\n",
      "Epoch 47/100\n",
      "536/536 [==============================] - 1s 1ms/step - loss: 0.3848 - accuracy: 0.8336 - val_loss: 0.3761 - val_accuracy: 0.8372\n",
      "Epoch 48/100\n",
      "536/536 [==============================] - 1s 1ms/step - loss: 0.3874 - accuracy: 0.8369 - val_loss: 0.3751 - val_accuracy: 0.8364\n",
      "Epoch 49/100\n",
      "536/536 [==============================] - 1s 1ms/step - loss: 0.3903 - accuracy: 0.8347 - val_loss: 0.3727 - val_accuracy: 0.8395\n",
      "Epoch 50/100\n",
      "536/536 [==============================] - 1s 1ms/step - loss: 0.3854 - accuracy: 0.8377 - val_loss: 0.3739 - val_accuracy: 0.8406\n",
      "Epoch 51/100\n",
      "536/536 [==============================] - 1s 1ms/step - loss: 0.3914 - accuracy: 0.8362 - val_loss: 0.3805 - val_accuracy: 0.8323\n",
      "Epoch 52/100\n",
      "536/536 [==============================] - 1s 1ms/step - loss: 0.3984 - accuracy: 0.8336 - val_loss: 0.3770 - val_accuracy: 0.8402\n",
      "Epoch 53/100\n",
      "536/536 [==============================] - 1s 1ms/step - loss: 0.3862 - accuracy: 0.8358 - val_loss: 0.3749 - val_accuracy: 0.8417\n",
      "Epoch 54/100\n",
      "536/536 [==============================] - 1s 1ms/step - loss: 0.3827 - accuracy: 0.8386 - val_loss: 0.3721 - val_accuracy: 0.8421\n",
      "Epoch 55/100\n",
      "536/536 [==============================] - 1s 1ms/step - loss: 0.3825 - accuracy: 0.8371 - val_loss: 0.3732 - val_accuracy: 0.8364\n",
      "Epoch 56/100\n",
      "536/536 [==============================] - 1s 2ms/step - loss: 0.3966 - accuracy: 0.8337 - val_loss: 0.3730 - val_accuracy: 0.8406\n",
      "Epoch 57/100\n",
      "536/536 [==============================] - 1s 1ms/step - loss: 0.3928 - accuracy: 0.8341 - val_loss: 0.3737 - val_accuracy: 0.8406\n",
      "Epoch 58/100\n",
      "536/536 [==============================] - 1s 1ms/step - loss: 0.3890 - accuracy: 0.8365 - val_loss: 0.3755 - val_accuracy: 0.8353\n",
      "Epoch 59/100\n",
      "536/536 [==============================] - 1s 2ms/step - loss: 0.3901 - accuracy: 0.8337 - val_loss: 0.3747 - val_accuracy: 0.8364\n",
      "Epoch 60/100\n",
      "536/536 [==============================] - 1s 2ms/step - loss: 0.3850 - accuracy: 0.8358 - val_loss: 0.3716 - val_accuracy: 0.8410\n",
      "Epoch 61/100\n",
      "536/536 [==============================] - 1s 1ms/step - loss: 0.3896 - accuracy: 0.8326 - val_loss: 0.3757 - val_accuracy: 0.8357\n",
      "Epoch 62/100\n",
      "536/536 [==============================] - 1s 1ms/step - loss: 0.3769 - accuracy: 0.8386 - val_loss: 0.3713 - val_accuracy: 0.8383\n",
      "Epoch 63/100\n",
      "536/536 [==============================] - 1s 1ms/step - loss: 0.3878 - accuracy: 0.8375 - val_loss: 0.3718 - val_accuracy: 0.8413\n",
      "Epoch 64/100\n",
      "536/536 [==============================] - 1s 1ms/step - loss: 0.3875 - accuracy: 0.8442 - val_loss: 0.3762 - val_accuracy: 0.8391\n",
      "Epoch 65/100\n",
      "536/536 [==============================] - 1s 1ms/step - loss: 0.3903 - accuracy: 0.8386 - val_loss: 0.3726 - val_accuracy: 0.8379\n",
      "Epoch 66/100\n",
      "536/536 [==============================] - 1s 2ms/step - loss: 0.3895 - accuracy: 0.8418 - val_loss: 0.3728 - val_accuracy: 0.8383\n",
      "Epoch 67/100\n",
      "536/536 [==============================] - 1s 1ms/step - loss: 0.3906 - accuracy: 0.8369 - val_loss: 0.3724 - val_accuracy: 0.8402\n",
      "Epoch 68/100\n",
      "536/536 [==============================] - 1s 1ms/step - loss: 0.3921 - accuracy: 0.8336 - val_loss: 0.3776 - val_accuracy: 0.8315\n",
      "Epoch 69/100\n",
      "536/536 [==============================] - 1s 1ms/step - loss: 0.3922 - accuracy: 0.8395 - val_loss: 0.3760 - val_accuracy: 0.8330\n",
      "Epoch 70/100\n",
      "536/536 [==============================] - 1s 1ms/step - loss: 0.3920 - accuracy: 0.8352 - val_loss: 0.3755 - val_accuracy: 0.8338\n",
      "Epoch 71/100\n",
      "536/536 [==============================] - 1s 1ms/step - loss: 0.3935 - accuracy: 0.8354 - val_loss: 0.3749 - val_accuracy: 0.8364\n",
      "Epoch 72/100\n",
      "536/536 [==============================] - 1s 1ms/step - loss: 0.3808 - accuracy: 0.8406 - val_loss: 0.3731 - val_accuracy: 0.8421\n",
      "Epoch 73/100\n",
      "536/536 [==============================] - 1s 1ms/step - loss: 0.3796 - accuracy: 0.8427 - val_loss: 0.3765 - val_accuracy: 0.8323\n",
      "Epoch 74/100\n",
      "536/536 [==============================] - 1s 1ms/step - loss: 0.3867 - accuracy: 0.8349 - val_loss: 0.3739 - val_accuracy: 0.8330\n",
      "Epoch 75/100\n",
      "536/536 [==============================] - 1s 1ms/step - loss: 0.3890 - accuracy: 0.8332 - val_loss: 0.3729 - val_accuracy: 0.8345\n",
      "Epoch 76/100\n",
      "536/536 [==============================] - 1s 1ms/step - loss: 0.3789 - accuracy: 0.8412 - val_loss: 0.3684 - val_accuracy: 0.8406\n",
      "Epoch 77/100\n",
      "536/536 [==============================] - 1s 1ms/step - loss: 0.3836 - accuracy: 0.8457 - val_loss: 0.3673 - val_accuracy: 0.8444\n",
      "Epoch 78/100\n",
      "536/536 [==============================] - 1s 1ms/step - loss: 0.3782 - accuracy: 0.8393 - val_loss: 0.3698 - val_accuracy: 0.8383\n",
      "Epoch 79/100\n",
      "536/536 [==============================] - 1s 1ms/step - loss: 0.3781 - accuracy: 0.8421 - val_loss: 0.3688 - val_accuracy: 0.8395\n",
      "Epoch 80/100\n",
      "536/536 [==============================] - 1s 1ms/step - loss: 0.3825 - accuracy: 0.8373 - val_loss: 0.3682 - val_accuracy: 0.8383\n",
      "Epoch 81/100\n",
      "536/536 [==============================] - 1s 2ms/step - loss: 0.3795 - accuracy: 0.8388 - val_loss: 0.3740 - val_accuracy: 0.8349\n",
      "Epoch 82/100\n",
      "536/536 [==============================] - 1s 1ms/step - loss: 0.3816 - accuracy: 0.8408 - val_loss: 0.3745 - val_accuracy: 0.8360\n",
      "Epoch 83/100\n",
      "536/536 [==============================] - 1s 1ms/step - loss: 0.3901 - accuracy: 0.8371 - val_loss: 0.3720 - val_accuracy: 0.8406\n",
      "Epoch 84/100\n",
      "536/536 [==============================] - 1s 2ms/step - loss: 0.3858 - accuracy: 0.8365 - val_loss: 0.3716 - val_accuracy: 0.8376\n",
      "Epoch 85/100\n",
      "536/536 [==============================] - 1s 2ms/step - loss: 0.3823 - accuracy: 0.8391 - val_loss: 0.3697 - val_accuracy: 0.8429\n",
      "Epoch 86/100\n",
      "536/536 [==============================] - 1s 1ms/step - loss: 0.3803 - accuracy: 0.8429 - val_loss: 0.3703 - val_accuracy: 0.8387\n",
      "Epoch 87/100\n",
      "536/536 [==============================] - 1s 2ms/step - loss: 0.3753 - accuracy: 0.8466 - val_loss: 0.3716 - val_accuracy: 0.8413\n",
      "Epoch 88/100\n",
      "536/536 [==============================] - 1s 2ms/step - loss: 0.3797 - accuracy: 0.8405 - val_loss: 0.3685 - val_accuracy: 0.8448\n",
      "Epoch 89/100\n",
      "536/536 [==============================] - 1s 1ms/step - loss: 0.3802 - accuracy: 0.8461 - val_loss: 0.3701 - val_accuracy: 0.8395\n",
      "Epoch 90/100\n",
      "536/536 [==============================] - 1s 1ms/step - loss: 0.3867 - accuracy: 0.8369 - val_loss: 0.3673 - val_accuracy: 0.8440\n",
      "Epoch 91/100\n",
      "536/536 [==============================] - 1s 1ms/step - loss: 0.3814 - accuracy: 0.8406 - val_loss: 0.3707 - val_accuracy: 0.8413\n",
      "Epoch 92/100\n",
      "536/536 [==============================] - 1s 1ms/step - loss: 0.3918 - accuracy: 0.8350 - val_loss: 0.3734 - val_accuracy: 0.8349\n",
      "Epoch 93/100\n",
      "536/536 [==============================] - 1s 1ms/step - loss: 0.3811 - accuracy: 0.8395 - val_loss: 0.3723 - val_accuracy: 0.8391\n",
      "Epoch 94/100\n",
      "536/536 [==============================] - 1s 1ms/step - loss: 0.3852 - accuracy: 0.8349 - val_loss: 0.3752 - val_accuracy: 0.8345\n",
      "Epoch 95/100\n",
      "536/536 [==============================] - 1s 1ms/step - loss: 0.3742 - accuracy: 0.8438 - val_loss: 0.3699 - val_accuracy: 0.8425\n",
      "Epoch 96/100\n",
      "536/536 [==============================] - 1s 1ms/step - loss: 0.3814 - accuracy: 0.8395 - val_loss: 0.3720 - val_accuracy: 0.8421\n",
      "Epoch 97/100\n",
      "536/536 [==============================] - 1s 1ms/step - loss: 0.3807 - accuracy: 0.8399 - val_loss: 0.3741 - val_accuracy: 0.8395\n",
      "Epoch 98/100\n",
      "536/536 [==============================] - 1s 1ms/step - loss: 0.3772 - accuracy: 0.8386 - val_loss: 0.3706 - val_accuracy: 0.8432\n",
      "Epoch 99/100\n",
      "536/536 [==============================] - 1s 1ms/step - loss: 0.3814 - accuracy: 0.8429 - val_loss: 0.3713 - val_accuracy: 0.8421\n",
      "Epoch 100/100\n",
      "536/536 [==============================] - 1s 1ms/step - loss: 0.3804 - accuracy: 0.8388 - val_loss: 0.3762 - val_accuracy: 0.8330\n"
     ]
    }
   ],
   "source": [
    "training_data = classifier.fit(X_train , y_train , validation_split=0.33 , batch_size = 10 , epochs = 100)"
   ]
  },
  {
   "cell_type": "code",
   "execution_count": 64,
   "metadata": {},
   "outputs": [
    {
     "data": {
      "text/plain": [
       "dict_keys(['loss', 'accuracy', 'val_loss', 'val_accuracy'])"
      ]
     },
     "execution_count": 64,
     "metadata": {},
     "output_type": "execute_result"
    }
   ],
   "source": [
    "training_data.history.keys()"
   ]
  },
  {
   "cell_type": "code",
   "execution_count": 65,
   "metadata": {},
   "outputs": [],
   "source": [
    "y_pred = classifier.predict(X_test)\n",
    "y_pred = (y_pred>0.5)"
   ]
  },
  {
   "cell_type": "code",
   "execution_count": 66,
   "metadata": {},
   "outputs": [
    {
     "data": {
      "text/plain": [
       "array([[1579,   28],\n",
       "       [ 286,  107]], dtype=int64)"
      ]
     },
     "execution_count": 66,
     "metadata": {},
     "output_type": "execute_result"
    }
   ],
   "source": [
    "from sklearn.metrics import confusion_matrix , accuracy_score\n",
    "confusion_matrix(y_test , y_pred)"
   ]
  },
  {
   "cell_type": "code",
   "execution_count": 67,
   "metadata": {},
   "outputs": [
    {
     "data": {
      "text/plain": [
       "84.3"
      ]
     },
     "execution_count": 67,
     "metadata": {},
     "output_type": "execute_result"
    }
   ],
   "source": [
    "round(accuracy_score(y_test , y_pred) * 100 , 2)"
   ]
  }
 ],
 "metadata": {
  "kernelspec": {
   "display_name": "Python 3",
   "language": "python",
   "name": "python3"
  },
  "language_info": {
   "codemirror_mode": {
    "name": "ipython",
    "version": 3
   },
   "file_extension": ".py",
   "mimetype": "text/x-python",
   "name": "python",
   "nbconvert_exporter": "python",
   "pygments_lexer": "ipython3",
   "version": "3.7.6"
  }
 },
 "nbformat": 4,
 "nbformat_minor": 4
}
